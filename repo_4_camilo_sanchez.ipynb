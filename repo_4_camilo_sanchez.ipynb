{
 "cells": [
  {
   "cell_type": "markdown",
   "metadata": {},
   "source": [
    "# Reto 4 - Cmailo Jose Sanchez Vilamar\n",
    "\n",
    "Ejercicio #1: Dado un número entero, determinar si ese número corresponde al código ASCII de una vocal minúscula."
   ]
  },
  {
   "cell_type": "code",
   "execution_count": 8,
   "metadata": {},
   "outputs": [
    {
     "name": "stdout",
     "output_type": "stream",
     "text": [
      "100 no pertenece a una vocal minuscula\n"
     ]
    }
   ],
   "source": [
    "x = int(input(\"ingrese un numero entero: \"))\n",
    "\n",
    "if x == 97 or x == 101 or x == 105 or x == 111 or x == 117:\n",
    "  print( (x), \" si es una vocal minuscula\")\n",
    "  print(chr(x))\n",
    "else:\n",
    "  print( (x), \"no pertenece a una vocal minuscula\")"
   ]
  },
  {
   "cell_type": "markdown",
   "metadata": {},
   "source": [
    "Ejercicio #2: Dada una cadena de longitud 1, determine si el código ASCII de primera letra de la cadena es par o no."
   ]
  },
  {
   "cell_type": "code",
   "execution_count": null,
   "metadata": {},
   "outputs": [],
   "source": [
    "x = input(\"ingrese una letra: \")\n",
    "y = ord (x)\n",
    "\n",
    "if y%2 == 0:\n",
    "  print(\"el codigo de la letra si es par\")\n",
    "else: \n",
    "  print(\"el codigo de la letra no es par\")"
   ]
  },
  {
   "cell_type": "markdown",
   "metadata": {},
   "source": [
    "Ejercicio #3: Dado un carácter, construya un programa en Python para determinar si el carácter es un dígito o no."
   ]
  },
  {
   "cell_type": "code",
   "execution_count": 9,
   "metadata": {},
   "outputs": [
    {
     "name": "stdout",
     "output_type": "stream",
     "text": [
      "si es un digito\n"
     ]
    }
   ],
   "source": [
    "x = input(\"ingrese un caracter: \")\n",
    "\n",
    "if x.isdigit():\n",
    "  print(\"si es un digito\")\n",
    "else:\n",
    "  print(\"no es un digito\")\n"
   ]
  },
  {
   "cell_type": "markdown",
   "metadata": {},
   "source": [
    "Ejecicio #4: Dado un número real x, construya un programa que permita determinar si el número es positivo, negativo o cero. Para cada caso de debe imprimir el texto que se especifica a continuación:\n",
    "\n",
    "- Positivo: \"El número x es positivo\"\n",
    "- Negativo: \"El número x es negativo\"\n",
    "- Cero (0): \"El número x es el neutro para la suma\""
   ]
  },
  {
   "cell_type": "code",
   "execution_count": 10,
   "metadata": {},
   "outputs": [
    {
     "name": "stdout",
     "output_type": "stream",
     "text": [
      "el numero 5.0 es positivo\n"
     ]
    }
   ],
   "source": [
    "x = float(input(\"ingrese un numero: \"))\n",
    "\n",
    "if x > 0:\n",
    "  print(\"el numero\",x,\"es positivo\")\n",
    "  \n",
    "elif x < 0:\n",
    "  print(\"el numero\",x,\"es negativo\")\n",
    "  \n",
    "elif x == 0:\n",
    "  print(\"El número\" ,x, \"es el neutro para la suma\")"
   ]
  },
  {
   "cell_type": "markdown",
   "metadata": {},
   "source": [
    "Ejercicio #5: Dado el centro y el radio de un círculo, determinar si un punto de R2 pertenece o no al interior del círculo."
   ]
  },
  {
   "cell_type": "code",
   "execution_count": 11,
   "metadata": {},
   "outputs": [
    {
     "name": "stdout",
     "output_type": "stream",
     "text": [
      "la coordenada 3.0 , 3.0 pertenece a la circunferencia\n"
     ]
    }
   ],
   "source": [
    "x = float(input(\"ingrese la cordenada en x del centro del circulo: \"))\n",
    "y = float(input(\"ingrese la cordenada en y del centro del circulo: \"))\n",
    "r = float(input(\"ingrese el radio del circulo: \"))\n",
    "\n",
    "w = float(input(\"ingrese la coordena en x del punto: \"))\n",
    "z = float(input(\"ingrese la coordena en y del punto: \"))\n",
    "\n",
    "a = ((w - x) ** 2)\n",
    "b = ((z - y) ** 2)\n",
    "c = ((a + b) ** 0.5)\n",
    "\n",
    "if c < r or c == r:\n",
    "  print(\"la coordenada\",w, \",\" ,z, \"pertenece a la circunferencia\")\n",
    "else:\n",
    "  print (\"la coordenada no pertenece a la circuferencia\")"
   ]
  },
  {
   "cell_type": "markdown",
   "metadata": {},
   "source": [
    "Ejercicio #6: Dadas tres longitudes positivas, determinar si con esas longitudes se puede construir un triángulo."
   ]
  },
  {
   "cell_type": "code",
   "execution_count": 12,
   "metadata": {},
   "outputs": [
    {
     "name": "stdout",
     "output_type": "stream",
     "text": [
      "Se puede formar un triangulo con las longitudes\n"
     ]
    }
   ],
   "source": [
    "x = float(input(\"ingrese la primera longitud: \"))\n",
    "y = float(input(\"ingrese la segunda longitud: \"))\n",
    "z = float(input(\"ingrese la tercera longitud: \"))\n",
    "\n",
    "if x + y > z and x + z > y and y + z > x: \n",
    "  print (\"Se puede formar un triangulo con las longitudes\")\n",
    "else:\n",
    "  print(\"No se puede formar un triangulo con las longitudes\")"
   ]
  },
  {
   "cell_type": "markdown",
   "metadata": {},
   "source": [
    "Muchas gracias por leer el codigo :3"
   ]
  },
  {
   "cell_type": "markdown",
   "metadata": {},
   "source": []
  }
 ],
 "metadata": {
  "kernelspec": {
   "display_name": "Python 3",
   "language": "python",
   "name": "python3"
  },
  "language_info": {
   "codemirror_mode": {
    "name": "ipython",
    "version": 3
   },
   "file_extension": ".py",
   "mimetype": "text/x-python",
   "name": "python",
   "nbconvert_exporter": "python",
   "pygments_lexer": "ipython3",
   "version": "3.11.5"
  },
  "orig_nbformat": 4
 },
 "nbformat": 4,
 "nbformat_minor": 2
}
